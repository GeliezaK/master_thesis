{
 "cells": [
  {
   "cell_type": "markdown",
   "id": "7ab4b7af-d345-48f4-b586-f2e45fc5f234",
   "metadata": {},
   "source": [
    "# Download dataset from GEEmap MODIS cloud cover dataset\n",
    "\n",
    "### Requirements:\n",
    "\n",
    "    A GOOGLE cloud project linked to your GOOGLE account\n",
    "\n",
    "### My project\n",
    "\n",
    "Google account: gelieza.gk@gmail.com\n",
    "\n",
    "cloud project ID: sample-project-452812\n",
    "\n",
    "cloud project name: Sample Project"
   ]
  },
  {
   "cell_type": "code",
   "execution_count": 1,
   "id": "31e667f7-73f0-4392-acb9-8e8cc3df3ff8",
   "metadata": {},
   "outputs": [],
   "source": [
    "import numpy as np\n",
    "import pandas as pd\n",
    "import matplotlib.pyplot as plt\n",
    "import ee\n",
    "import geemap"
   ]
  },
  {
   "cell_type": "code",
   "execution_count": 2,
   "id": "6bed4583-d387-4731-b52c-3e4943da51e3",
   "metadata": {},
   "outputs": [
    {
     "data": {
      "text/html": [
       "\n",
       "            <style>\n",
       "                .geemap-dark {\n",
       "                    --jp-widgets-color: white;\n",
       "                    --jp-widgets-label-color: white;\n",
       "                    --jp-ui-font-color1: white;\n",
       "                    --jp-layout-color2: #454545;\n",
       "                    background-color: #383838;\n",
       "                }\n",
       "\n",
       "                .geemap-dark .jupyter-button {\n",
       "                    --jp-layout-color3: #383838;\n",
       "                }\n",
       "\n",
       "                .geemap-colab {\n",
       "                    background-color: var(--colab-primary-surface-color, white);\n",
       "                }\n",
       "\n",
       "                .geemap-colab .jupyter-button {\n",
       "                    --jp-layout-color3: var(--colab-primary-surface-color, white);\n",
       "                }\n",
       "            </style>\n",
       "            "
      ],
      "text/plain": [
       "<IPython.core.display.HTML object>"
      ]
     },
     "metadata": {},
     "output_type": "display_data"
    },
    {
     "data": {
      "text/html": [
       "<p>To authorize access needed by Earth Engine, open the following\n",
       "        URL in a web browser and follow the instructions:</p>\n",
       "        <p><a href=https://code.earthengine.google.com/client-auth?scopes=https%3A//www.googleapis.com/auth/earthengine%20https%3A//www.googleapis.com/auth/cloud-platform%20https%3A//www.googleapis.com/auth/devstorage.full_control&request_id=sS47vMUHlNrtPtrFpcwnPBmJ3a11t_Zi198_h4eIsiI&tc=wQMhOup0ivD1x10ou7-Gkq4xpxWByAcdwiGefP67SUY&cc=8vQU2SoigEp0u4dIsk4u0Ebf0uC6MhUjCc5EW8rATH0>https://code.earthengine.google.com/client-auth?scopes=https%3A//www.googleapis.com/auth/earthengine%20https%3A//www.googleapis.com/auth/cloud-platform%20https%3A//www.googleapis.com/auth/devstorage.full_control&request_id=sS47vMUHlNrtPtrFpcwnPBmJ3a11t_Zi198_h4eIsiI&tc=wQMhOup0ivD1x10ou7-Gkq4xpxWByAcdwiGefP67SUY&cc=8vQU2SoigEp0u4dIsk4u0Ebf0uC6MhUjCc5EW8rATH0</a></p>\n",
       "        <p>The authorization workflow will generate a code, which you should paste in the box below.</p>\n",
       "        "
      ],
      "text/plain": [
       "<IPython.core.display.HTML object>"
      ]
     },
     "metadata": {},
     "output_type": "display_data"
    },
    {
     "name": "stdin",
     "output_type": "stream",
     "text": [
      "Enter verification code:  4/1AQSTgQHVSjx4lzqezom7llY6oXnpUh6wtnhDwiMfEeULKkfXR-r2izZDImc\n"
     ]
    },
    {
     "name": "stdout",
     "output_type": "stream",
     "text": [
      "\n",
      "Successfully saved authorization token.\n"
     ]
    }
   ],
   "source": [
    "# Authorization and initialization of the GEE\n",
    "# OBS: You must create our own project on Google\n",
    "# Authenticate Earth Engine\n",
    "ee.Authenticate()\n",
    "#\n",
    "# Initialize Earth Engine\n",
    "my_project_name = 'sample-project-452812' # use here the name of your own project on Google\n",
    "ee.Initialize(project=my_project_name)"
   ]
  },
  {
   "cell_type": "code",
   "execution_count": null,
   "id": "3eb10fa1-0aed-4eda-8cd6-179abfc468a9",
   "metadata": {},
   "outputs": [],
   "source": []
  }
 ],
 "metadata": {
  "kernelspec": {
   "display_name": "venv",
   "language": "python",
   "name": "venv"
  },
  "language_info": {
   "codemirror_mode": {
    "name": "ipython",
    "version": 3
   },
   "file_extension": ".py",
   "mimetype": "text/x-python",
   "name": "python",
   "nbconvert_exporter": "python",
   "pygments_lexer": "ipython3",
   "version": "3.12.3"
  }
 },
 "nbformat": 4,
 "nbformat_minor": 5
}
